{
 "cells": [
  {
   "cell_type": "code",
   "execution_count": 2,
   "id": "d5714260-aa50-4d95-a854-305ea0cc99ff",
   "metadata": {},
   "outputs": [],
   "source": [
    "import numpy as np\n",
    "import pandas as pd\n",
    "from pathlib import Path\n",
    "import matplotlib.pyplot as plt\n",
    "\n",
    "from sklearn.datasets import fetch_california_housing\n",
    "from sklearn.model_selection import train_test_split\n",
    "from sklearn.preprocessing import StandardScaler, PolynomialFeatures\n",
    "from sklearn.pipeline import make_pipeline\n",
    "from sklearn.linear_model import LinearRegression, Lasso, Ridge\n",
    "from sklearn.metrics import mean_squared_error\n"
   ]
  },
  {
   "cell_type": "code",
   "execution_count": 4,
   "id": "35da7697-5490-46dc-8827-96afaf8f1418",
   "metadata": {},
   "outputs": [
    {
     "name": "stdout",
     "output_type": "stream",
     "text": [
      "C:\\Users\\as972\\Amar\\Stanford Artificial Intelligence Professional Program\\CS229_Practice_Projects\\1_bias-variance-california\n"
     ]
    }
   ],
   "source": [
    "import os\n",
    "print(os.getcwd())"
   ]
  },
  {
   "cell_type": "code",
   "execution_count": 10,
   "id": "16178766-615d-4897-b73a-e2ce9c085a97",
   "metadata": {},
   "outputs": [],
   "source": [
    "Results_dir = Path(\"results\")\n",
    "Fig_dir = Results_dir/\"plots\"\n",
    "Fig_dir.mkdir(parents=True, exist_ok=True)"
   ]
  },
  {
   "cell_type": "code",
   "execution_count": null,
   "id": "5550d930-6094-46b1-8959-a592bbe383e8",
   "metadata": {
    "scrolled": true
   },
   "outputs": [],
   "source": [
    "##Load data (as pandas DataFrame) + (optional) engineered features\n",
    "\n",
    "data = fetch_california_housing(as_frame=True)\n",
    "df = data.frame\n",
    "##df.head()\n",
    "\n",
    "def add_engineered_features(X: pd.DataFrame) -> pd.DataFrame:\n",
    "    X = X.copy()\n",
    "    eps = 1e-6\n",
    "    X[\"Rooms_per_person\"] = X[\"AveRooms\"] / np.maximum(X[\"AveOccup\"], eps)\n",
    "    X[\"Bedroom_ratio\"] = X[\"AveBedrms\"] / np.maximum(X[\"AveRooms\"], eps)\n",
    "    X[\"Close_to_beach_flag\"] = ((X[\"Longitude\"] > -122) & (X[\"Latitude\"].between(33,38))).astype(int)\n",
    "    return X\n",
    "\n",
    "y = df[\"MedHouseVal\"]\n",
    "X_raw = df.drop(columns=[\"MedHouseVal\"])\n",
    "\n",
    "USE_ENG_FEATURES = False\n",
    "\n",
    "X = add_engineered_features(X_raw) if USE_ENG_FEATURES else X_raw\n",
    "\n",
    "X_train, X_test, y_train, y_test = train_test_split(X, y, test_size = 0.30, random_state = 42)\n",
    "\n",
    "X_train.shape, X_test.shape\n",
    "\n",
    "\n",
    "    \n"
   ]
  },
  {
   "cell_type": "code",
   "execution_count": null,
   "id": "3bb8db36-a32a-4b7e-a617-59397f4f0ce8",
   "metadata": {},
   "outputs": [],
   "source": [
    "### 2 -> Model Builders + Evaluators\n",
    "\n",
    "def linear_poly (degree: int):\n",
    "    return make_pipeline(\n",
    "        PolynomialFeatures(degree = degree, include_bias = False),\n",
    "        StandardScaler(with_mean=False),\n",
    "        LinearRegression()\n",
    "    )\n",
    "\n",
    "def poly_ridge (degree: int, alpha: float):\n",
    "    return make_pipeline(\n",
    "        PolynomialFeatures(degree = degree, include_bias = False),\n",
    "        StandardScaler(with_mean=False),\n",
    "        Ridge(alpha=alpha, random_state = 42)\n",
    "    )\n",
    "        \n",
    "def poly_lasso (degree: int, alpha: float):\n",
    "    return make_pipeline(\n",
    "        PolynomialFeatures(degree = degree, include_bias = False),\n",
    "        StandardScaler(with_mean=False),\n",
    "        Lasso(alpha=alpha, random_state = 42, max_iter = 20000)\n",
    "    )\n",
    "\n",
    "def eval_model(model, X_train, y_train, X_test, y_test):\n",
    "    model.fit(X_train, y_train)\n",
    "    training_error = mean_squared_error(y_train, model.predict(X_train))\n",
    "    test_error = mean_squared_error(y_test, model.predict(X_test))\n",
    "    return training_error, test_error\n",
    "    \n",
    "    "
   ]
  },
  {
   "cell_type": "code",
   "execution_count": null,
   "id": "43a54676-0999-42a8-926b-52249f379e09",
   "metadata": {
    "scrolled": true
   },
   "outputs": [],
   "source": [
    "### 3 -> Complexicity Sweep: Bias - Reduce but Vaiance Increase\n",
    "\n",
    "poly_degrees = [1,2,3,5,8,10]\n",
    "rows = []\n",
    "\n",
    "for d in poly_degrees:\n",
    "    model = linear_poly(d)\n",
    "    training_error, test_error = eval_model(model, X_train, y_train, X_test, y_test)\n",
    "    rows.append(dict(\n",
    "        stage=\"complexity\", \n",
    "        features = (\"eng\" if USE_ENG_FEATURES else \"raw\"), \n",
    "        kind=\"lin\", \n",
    "        degree =d, \n",
    "        alpha=np.nan, \n",
    "        train_mse = training_error, \n",
    "        test_mse=test_error\n",
    "    ))\n",
    "\n",
    "results = pd.DataFrame(rows)\n",
    "\n",
    "plt.figure(figsize=(7,4))\n",
    "sub = results.sort_values(\"degree\")\n",
    "plt.plot(sub[\"degree\"], sub[\"train_mse\"], marker=\"o\", label=\"Train MSE\")\n",
    "plt.plot(sub[\"degree\"], sub[\"test_mse\"],  marker=\"o\", label=\"Test MSE\")\n",
    "plt.xlabel(\"Polynomial Degree\"); plt.ylabel(\"MSE\"); plt.title(\"Complexity Sweep\")\n",
    "plt.legend(); plt.grid(True, alpha=0.3)\n",
    "plt.tight_layout()\n",
    "plt.savefig(Fig_dir/\"01_complexity_sweep.png\", dpi=160)\n",
    "plt.show()\n",
    "\n",
    "results"
   ]
  },
  {
   "cell_type": "code",
   "execution_count": null,
   "id": "2a37d10f-817a-4beb-888e-b146857b834f",
   "metadata": {},
   "outputs": [],
   "source": [
    "### 4 -> Feature engineering comparison (reduce bias smartly)\n",
    "\n",
    "def run_with_features(use_eng_features: bool, degrees=[1,2,3,5,8,10]):\n",
    "    X = add_engineered_features(X_raw) if use_eng_features else X_raw\n",
    "    X_train , X_test, y_train, y_test = train_test_split(X, y, test_size=0.30, random_state=42)\n",
    "    rows=[]\n",
    "    for d in degrees:\n",
    "        model = linear_poly(d)\n",
    "        train_error, test_error = eval_model(model, X_train , y_train, X_test,  y_test)\n",
    "        rows.append(dict(\n",
    "            stage=\"features\",\n",
    "            features=(\"eng\" if use_eng_features else \"raw\"),\n",
    "            kind=\"lin\",\n",
    "            degree=d,\n",
    "            aplha=np.nan,\n",
    "            train_mse=train_error,\n",
    "            test_mse=test_error\n",
    "        ))\n",
    "\n",
    "    return pd.Dataframe(rows)\n",
    "\n",
    "results_raw = run_with_features(False)\n",
    "results_features = run_with_features(True)\n",
    "\n",
    "feature_results = pd.concate([results_raw, results_features], ignore_index=True)\n",
    "\n",
    "print(\"Feature results shape:\", feature_results.shape)\n",
    "print(\"Unique feature sets:\", feature_results[\"features\"].unique())\n",
    "\n",
    "plt.figure(figsize=(7,4))\n",
    "for label, df_ in feature_results.groupby(\"features\"):\n",
    "    df_ = df_.sort_values(\"degree\")\n",
    "    plt.plot(df_[\"degree\"], df_[\"test_mse\"], marker=\"o\", label=f\"Test MSE ({label})\")\n",
    "plt.xlabel(\"Degree\"); plt.ylabel(\"MSE\"); plt.title(\"Effect of Feature Engineering\")\n",
    "plt.legend(); plt.grid(True, alpha=0.3)\n",
    "plt.tight_layout()\n",
    "plt.savefig(Fig_dir/\"02_features_effect.png\", dpi=160)\n",
    "plt.show()\n",
    "\n",
    "feat_results\n",
    "        \n",
    "\n"
   ]
  },
  {
   "cell_type": "code",
   "execution_count": null,
   "id": "bfc4186a-e350-45a3-8118-76b440e2e0f9",
   "metadata": {},
   "outputs": [],
   "source": []
  }
 ],
 "metadata": {
  "kernelspec": {
   "display_name": "Python 3 (ipykernel)",
   "language": "python",
   "name": "python3"
  },
  "language_info": {
   "codemirror_mode": {
    "name": "ipython",
    "version": 3
   },
   "file_extension": ".py",
   "mimetype": "text/x-python",
   "name": "python",
   "nbconvert_exporter": "python",
   "pygments_lexer": "ipython3",
   "version": "3.12.4"
  }
 },
 "nbformat": 4,
 "nbformat_minor": 5
}
