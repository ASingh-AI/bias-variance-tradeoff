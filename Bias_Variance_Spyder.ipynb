# -*- coding: utf-8 -*-
"""
Created on Fri Aug 29 08:10:10 2025

@author: as972
"""
import os
import numpy as np
import pandas as pd
from pathlib import Path
import matplotlib.pyplot as plt

from sklearn.datasets import fetch_california_housing
from sklearn.model_selection import train_test_split
from sklearn.preprocessing import StandardScaler, PolynomialFeatures
from sklearn.pipeline import make_pipeline
from sklearn.linear_model import LinearRegression, Lasso, Ridge
from sklearn.metrics import mean_squared_error

### SET FOLDERS RELATIVE TO CURRENT PYTHON SCRIPT ###

ROOT = Path(__file__).resolve().parent
RESULTS_DIR = ROOT / "results"
PLOTS_DIR = RESULTS_DIR/"plots"
PLOTS_DIR.mkdir(parents=True, exist_ok=True)

print(f"[i] Results folder: {RESULTS_DIR}")
print(f"[i] Plots folder:   {PLOTS_DIR}")

##Load data (as pandas DataFrame) + (optional) engineered features

def add_engineered_features(X: pd.DataFrame) -> pd.DataFrame:
    X = X.copy()
    eps = 1e-6
    X["Rooms_per_person"] = X["AveRooms"] / np.maximum(X["AveOccup"], eps)
    X["Bedroom_ratio"] = X["AveBedrms"] / np.maximum(X["AveRooms"], eps)
    X["Close_to_beach_flag"] = ((X["Longitude"] > -122) & (X["Latitude"].between(33,38))).astype(int)
    return X

def load_data(use_engineered: bool=False):
    data = fetch_california_housing(as_frame=True)
    df = data.frame
    y = df["MedHouseVal"]
    X_raw = df.drop(columns=["MedHouseVal"])
    X = add_engineered_features(X_raw) if use_engineered else X_raw
    X_train, X_test, y_train, y_test = train_test_split(X, y, test_size = 0.30, random_state = 42)
    print(X_train.shape)
    print(y_train.shape)
    print(X_test.shape)
    print(y_test.shape)
    return X_train, X_test, y_train, y_test



